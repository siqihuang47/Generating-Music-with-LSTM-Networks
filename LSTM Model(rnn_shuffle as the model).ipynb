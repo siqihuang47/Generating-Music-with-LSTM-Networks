{
 "cells": [
  {
   "cell_type": "code",
   "execution_count": 1,
   "metadata": {},
   "outputs": [],
   "source": [
    "from rnn_shuffle import *\n",
    "from torch.distributions import Categorical\n",
    "import matplotlib.pyplot as plt\n",
    "from torch.utils.data.sampler import SubsetRandomSampler\n",
    "import warnings\n",
    "warnings.filterwarnings('ignore')"
   ]
  },
  {
   "cell_type": "code",
   "execution_count": 2,
   "metadata": {},
   "outputs": [
    {
     "name": "stdout",
     "output_type": "stream",
     "text": [
      "379977\n"
     ]
    }
   ],
   "source": [
    "root = 'texts/'\n",
    "\n",
    "f = open(root + 'train.txt', 'r')\n",
    "content = f.read()\n",
    "print(len(content))\n",
    "unique_chars = set(content)\n",
    "unique_chars.add('λ')\n",
    "chars_lst = sorted(list(unique_chars), key=str)\n",
    "char_dict = {char:i for i, char in enumerate(chars_lst, 0)}\n",
    "char_idxs = {i:char for i, char in enumerate(chars_lst, 0)}"
   ]
  },
  {
   "cell_type": "code",
   "execution_count": 3,
   "metadata": {},
   "outputs": [],
   "source": [
    "#1-hot-encoding where onehot[i] is the 1hotencoding of the ith character\n",
    "length = len(chars_lst)\n",
    "onehot = np.zeros((length, length))\n",
    "for i, char in enumerate(chars_lst, 0):\n",
    "    onehot[i, i] = 1"
   ]
  },
  {
   "cell_type": "code",
   "execution_count": 4,
   "metadata": {},
   "outputs": [],
   "source": [
    "def prepare(sample):   \n",
    "    return torch.LongTensor([[char_dict[i] for i in sample]])"
   ]
  },
  {
   "cell_type": "code",
   "execution_count": 5,
   "metadata": {},
   "outputs": [],
   "source": [
    "def get_chunks(song):\n",
    "    chunklst = []\n",
    "    C = 100 #chunk size\n",
    "    chunks = len(song) // C\n",
    "    for idx in range(chunks):\n",
    "        i = idx * C\n",
    "        j = (idx+1) * C\n",
    "        inp = prepare(song[i:j])\n",
    "        tar = prepare(song[i+1:j+1])\n",
    "        chunklst.append((inp, tar))\n",
    "    return chunklst"
   ]
  },
  {
   "cell_type": "code",
   "execution_count": 6,
   "metadata": {},
   "outputs": [],
   "source": [
    "temp = 1"
   ]
  },
  {
   "cell_type": "code",
   "execution_count": 7,
   "metadata": {},
   "outputs": [],
   "source": [
    "def tensor_to_char(sample):\n",
    "    pred_chars = torch.multinomial(F.softmax(sample.div(temp)), 1).view(-1)\n",
    "    return ''.join(char_idxs[i.item()] for i in pred_chars.to('cpu'))"
   ]
  },
  {
   "cell_type": "code",
   "execution_count": 8,
   "metadata": {},
   "outputs": [],
   "source": [
    "def to_char(sample):\n",
    "    return char_idxs[sample.item()]\n",
    "#     return ''.join(char_idxs[i.item()] for i in sample.to('cpu'))\n",
    "#     return [char_idxs[i.item()] for i in sample.to('cpu')]"
   ]
  },
  {
   "cell_type": "code",
   "execution_count": 9,
   "metadata": {},
   "outputs": [],
   "source": [
    "weight = torch.Tensor(onehot)"
   ]
  },
  {
   "cell_type": "code",
   "execution_count": 10,
   "metadata": {},
   "outputs": [],
   "source": [
    "# embedding = nn.Embedding.from_pretrained(weight)\n",
    "hidsz = 499\n",
    "inpsz = 94\n",
    "outsz = 94 # vocab size?\n",
    "num_layers = 1\n",
    "device = torch.device(\"cuda\" if torch.cuda.is_available() else \"cpu\")\n",
    "pathdir = 'model_states/' + str(hidsz) + 'units'"
   ]
  },
  {
   "cell_type": "code",
   "execution_count": 11,
   "metadata": {},
   "outputs": [],
   "source": [
    "net = RNnet(inpsz, hidsz, outsz, weight, num_layers).to(device)\n",
    "criterion = nn.CrossEntropyLoss()\n",
    "\n",
    "#Instantiate the gradient descent optimizer - use Adam optimizer with default parameters\n",
    "optimizer = optim.Adam(net.parameters(), lr=0.001)\n",
    "# capset = loader('cap.txt')\n",
    "# capacaity = DataLoader(capset, batch_size=1, shuffle=True,\n",
    "#                        num_workers=1, pin_memory=True)"
   ]
  },
  {
   "cell_type": "code",
   "execution_count": 12,
   "metadata": {},
   "outputs": [],
   "source": [
    "trainset = loader(root + 'train.txt')\n",
    "\n",
    "validset = loader(root + 'val.txt')"
   ]
  },
  {
   "cell_type": "code",
   "execution_count": 13,
   "metadata": {
    "scrolled": true
   },
   "outputs": [],
   "source": [
    "shuffle_dataset = True\n",
    "random_seed= 42\n",
    "\n",
    "\n",
    "\n",
    "tsize = len(trainset)\n",
    "vsize = len(validset)\n",
    "tidxs = list(range(tsize))\n",
    "vidxs = list(range(vsize))\n",
    "\n",
    "if shuffle_dataset :\n",
    "    np.random.seed(random_seed)\n",
    "    np.random.shuffle(tidxs)\n",
    "    \n",
    "    np.random.seed(random_seed)\n",
    "    np.random.shuffle(vidxs)\n",
    "\n",
    "# torch.manual_seed(random_seed)\n",
    "tsampler = SubsetRandomSampler(tidxs)\n",
    "\n",
    "# torch.manual_seed(random_seed)\n",
    "vsampler = SubsetRandomSampler(vidxs)"
   ]
  },
  {
   "cell_type": "code",
   "execution_count": 14,
   "metadata": {},
   "outputs": [],
   "source": [
    "train = DataLoader(trainset, batch_size=1,\n",
    "                  sampler=tsampler)\n",
    "\n",
    "valid = DataLoader(validset, batch_size=1,\n",
    "                  sampler=vsampler)\n"
   ]
  },
  {
   "cell_type": "code",
   "execution_count": 15,
   "metadata": {
    "scrolled": false
   },
   "outputs": [
    {
     "name": "stdout",
     "output_type": "stream",
     "text": [
      "Epoch [1] train loss is (2.119)45\n",
      "Epoch [1] valid loss is (1.7377)\n",
      "---------------------------------\n",
      "GENERATED SONG AT EPOCH [1]\n",
      "<start>\n",
      "X:11T:6e rai  ov Ca nte ,dl raa-sn'ymc:BoanHutoa\n",
      "S:Corc  Gdanjanss\n",
      "yarrien bntFagt os fh  naew eeorttu She ter yeemeski\n",
      "::8ersln oima t an oavg,iHe\n",
      "MirstensHeyraise\n",
      "w60Z:Jrrd uleosuat \n",
      "TaeliRdcolnHoasfdzeDo toilenToaiea'yR:Noa .netolyw \n",
      "T:Td:hn-harn2-nl-66M:6|\n",
      "K:G\n",
      "oo\n",
      "|B fr|a ~2gb fa  caA2|c|d33Ad e3ccA|AF:A|\n",
      "|3cf eccc3(cA A3=cc B3BAG bDG|ddBc3AD DF |c2GBgGB||\n",
      "c: 2B Bd2 BBG||(eff d3fd|\"a\\eatD~AddanoWd duAaandcs\n",
      " tAetnass'\\n_:14ff ]ece e2g!> fte||f2edf,G^B: \"BdBdgD/ FG|:|dF2dg eff|dgea cudfBB|A3Bcc fgBGA |>F||AD2cc gd e3cdF B3DGd B32AG DG||DDA2BFB GD A3AGF|AD||\n",
      "|:varoations\n",
      "B' c> d/fdfa||1edd3od c|Ce|G|~4cf3ccd EB:||cBd B Bggc3FdA|(2Gd3D/G||F:DeGGDdB  B2F2 AFG|\n",
      "<:<FA Ee cAGed|gacg=b}f3/d edas|f6pfgffe Af ||aVBd  afgf|(3 )d egBdd4||cdc :3\"dF E> ||f2edG2 afg||f2ed3ffd |e> : a|ee3dcG/AFB^|BG2GG df dBcBBF\n",
      "GG:FGdG|A -Gλ|EBdB/ \n",
      "2 |BA~(f/ G|F |\n",
      "<end>\n",
      "λλλλλλλλλλλλλλλλλλλλλλλλλλλλλλλλλλλλλλλ\n",
      "---------------------------------\n",
      "new best loss\n",
      "\n",
      "Epoch [2] train loss is (1.332)00\n",
      "Epoch [2] valid loss is (1.5062)\n",
      "new best loss\n",
      "\n",
      "Epoch [3] train loss is (1.139)02\n",
      "Epoch [3] valid loss is (1.4049)\n",
      "new best loss\n",
      "\n",
      "Epoch [4] train loss is (1.027)46\n",
      "Epoch [4] valid loss is (1.3627)\n",
      "---------------------------------\n",
      "GENERATED SONG AT EPOCH [4]\n",
      "<start>\n",
      "X: 7\n",
      "T:Vuws af Macld  The\n",
      "R:padaeS:Sandy Hlatkin \n",
      "FherlonsFg saelr'ea(aslagda Caank\n",
      "nc\n",
      "D:Fd:hn-hal8l11\n",
      "M:6|\n",
      "L:DdB3 d BAAB|(fAB a^cd|AdcA eAAA|B BgBA d2BB||2 cdfc d2fd|a\n",
      "|:a2 a2 cdAA|ge^b eabc|f fbBa  a2FA|f2Bc Bcfd||\n",
      " d3af ddgd|debg dB:c|\n",
      "\n",
      "<:aBAd d2ge|cdfe fdcd|d/dc c2fe|edec AABB||\n",
      "|end>\n",
      "λλλ\n",
      "---------------------------------\n",
      "new best loss\n",
      "\n",
      "Epoch [5] train loss is (0.942)27\n",
      "Epoch [5] valid loss is (1.3128)\n",
      "new best loss\n",
      "\n",
      "Epoch [6] train loss is (0.867)19\n",
      "Epoch [6] valid loss is (1.3182)\n",
      "\n",
      "Epoch [7] train loss is (0.803)02\n",
      "Epoch [7] valid loss is (1.3221)\n",
      "EARLY STOPPED AT EPOCH:  7\n",
      "models[-2] has the lowest valid error?\n"
     ]
    }
   ],
   "source": [
    "states = None\n",
    "epochs = 25\n",
    "N = 50\n",
    "stop = True #ESing\n",
    "tloss = []\n",
    "vloss = []\n",
    "# models = []\n",
    "best_loss = float('inf')\n",
    "\n",
    "\n",
    "#resets the seed within generational runs but still sample\n",
    "#songs still randomized within each epoch\n",
    "torch.manual_seed(random_seed)\n",
    "\n",
    "for itrs in range(epochs):\n",
    "    \n",
    "    epochloss = []\n",
    "    #states = None\n",
    "    \n",
    "#     optimizer = adaptiveLR(optimizer, itrs)\n",
    "    \n",
    "    for i, song in enumerate(train, 0):\n",
    "        song = song[0]\n",
    "        trainloss = 0\n",
    "        minibatchloss = 0\n",
    "        xnloss = []\n",
    "        states = None\n",
    "        \n",
    "        for inputs, targets in get_chunks(song):\n",
    "            \n",
    "            inputs = inputs.to(device)\n",
    "            targets = targets.to(device)\n",
    "\n",
    "            optimizer.zero_grad()\n",
    "            outputs, states = net(inputs, states)\n",
    "            targs = torch.squeeze(targets)\n",
    "            print('Epoch [%d] minibatch [%d]\\r' % (itrs+1, i), end=\"\")\n",
    "\n",
    "            loss = criterion(outputs, targs)\n",
    "            loss.backward()\n",
    "            optimizer.step()\n",
    "\n",
    "            trainloss += loss.item()      \n",
    "            xnloss.append(loss.item())\n",
    "\n",
    "            if i % N == 49:\n",
    "#                 trainloss /= N\n",
    "                #Print the loss averaged over the last N mini-batches\n",
    "                print('\\tEpoch %d, running %d loss: %.3f\\r' % (1,i+1, trainloss), end=\"\")\n",
    "                trainloss = 0\n",
    "\n",
    "        song_loss = np.average(xnloss)\n",
    "        epochloss.append(song_loss)\n",
    "    \n",
    "    eploss = np.average(epochloss)\n",
    "                \n",
    "    print('Epoch [%d] train loss is (%.3f)' % (itrs+1, eploss)) \n",
    "    tloss.append(eploss)\n",
    "    \n",
    "    \n",
    "    epochloss = []\n",
    "    songout = '<'\n",
    "    \n",
    "    with torch.no_grad():\n",
    "        for i, song in enumerate(valid, 0):\n",
    "            song = song[0]\n",
    "            validloss = 0\n",
    "            minibatchloss = 0\n",
    "            xncost = []\n",
    "            states = None\n",
    "            for inputs, targets in get_chunks(song):\n",
    "            \n",
    "                inputs = inputs.to(device)\n",
    "                targets = targets.to(device)\n",
    "\n",
    "                outputs, states = net(inputs, states)\n",
    "\n",
    "                targs = torch.squeeze(targets)\n",
    "    #             print('Epoch [%d] minibatch [%d]\\r' % (itrs+1, i), end=\"\")\n",
    "                loss = criterion(outputs, targs).item()\n",
    "\n",
    "                validloss += loss\n",
    "\n",
    "                xncost.append(loss)\n",
    "\n",
    "                if i % N == 49:\n",
    "                    validloss /= N\n",
    "                    #Print the loss averaged over the last N mini-batches\n",
    "                    print('\\tEpoch %d, valid %d loss: %.3f\\r' % (1,i+1, validloss), end=\"\")\n",
    "                    validloss = 0\n",
    "                if i == 0:\n",
    "                    songout += tensor_to_char(outputs)\n",
    "            \n",
    "            eploss = np.average(xncost)\n",
    "            epochloss.append(eploss)\n",
    "    \n",
    "        ep_loss = np.average(epochloss).round(4)\n",
    "        print('Epoch [%d] valid loss is (%.4f)' % (itrs+1, ep_loss)) \n",
    "\n",
    "        #can also do itrs (epochs) > 2?\n",
    "        if len(vloss) < 2:\n",
    "            vloss.append(ep_loss)\n",
    "#             models.append(net.state_dict())\n",
    "        elif vloss[-2] <= vloss[-1] <= ep_loss:\n",
    "            vloss.append(ep_loss)\n",
    "#             models.append(net.state_dict())\n",
    "            if stop:\n",
    "                print(\"EARLY STOPPED AT EPOCH: \", itrs + 1)\n",
    "                print(\"models[-2] has the lowest valid error?\")\n",
    "                break\n",
    "        else:\n",
    "            vloss.append(ep_loss)\n",
    "#             models.append(net.state_dict())\n",
    "    \n",
    "    if itrs % 3 == 0:\n",
    "        print('---------------------------------')\n",
    "        print('GENERATED SONG AT EPOCH [{}]'.format(itrs+1))\n",
    "        print(songout)\n",
    "        print('---------------------------------')\n",
    "    \n",
    "#     path = 'model_states/states_' + 'ep' + str(itrs+1) + '.pt'\n",
    "    #if we got a better loss, save the model_state_dict()\n",
    "    if vloss[-1] < best_loss:\n",
    "        path = pathdir +  '.pt'\n",
    "        torch.save(net.state_dict(), path)\n",
    "        print('new best loss')\n",
    "        best_loss = vloss[-1]\n",
    "\n",
    "    print()"
   ]
  },
  {
   "cell_type": "code",
   "execution_count": 16,
   "metadata": {
    "scrolled": true
   },
   "outputs": [
    {
     "data": {
      "text/plain": [
       "7"
      ]
     },
     "execution_count": 16,
     "metadata": {},
     "output_type": "execute_result"
    }
   ],
   "source": [
    "len(vloss)"
   ]
  },
  {
   "cell_type": "code",
   "execution_count": 17,
   "metadata": {},
   "outputs": [
    {
     "data": {
      "text/plain": [
       "4"
      ]
     },
     "execution_count": 17,
     "metadata": {},
     "output_type": "execute_result"
    }
   ],
   "source": [
    "minloss = np.argmin(vloss)\n",
    "minloss"
   ]
  },
  {
   "cell_type": "code",
   "execution_count": 18,
   "metadata": {},
   "outputs": [
    {
     "data": {
      "text/plain": [
       "'312'"
      ]
     },
     "execution_count": 18,
     "metadata": {},
     "output_type": "execute_result"
    }
   ],
   "source": [
    "loss_str = str(int((vloss[minloss] - 1).round(4) * 1000))\n",
    "loss_str"
   ]
  },
  {
   "cell_type": "code",
   "execution_count": 19,
   "metadata": {
    "scrolled": true
   },
   "outputs": [
    {
     "data": {
      "text/plain": [
       "[1.7377, 1.5062, 1.4049, 1.3627, 1.3128, 1.3182, 1.3221]"
      ]
     },
     "execution_count": 19,
     "metadata": {},
     "output_type": "execute_result"
    }
   ],
   "source": [
    "vloss"
   ]
  },
  {
   "cell_type": "raw",
   "metadata": {},
   "source": [
    "50units: \n",
    "[2.1307,\n",
    " 1.8959,\n",
    " 1.8194,\n",
    " 1.7231,\n",
    " 1.6355,\n",
    " 1.6164,\n",
    " 1.613,\n",
    " 1.5778,\n",
    " 1.5839,\n",
    " 1.5562,\n",
    " 1.5337---,\n",
    " 1.5409,\n",
    " 1.5445]\n",
    " \n",
    "75units:\n",
    "[1.9879,\n",
    " 1.7434,\n",
    " 1.6989,\n",
    " 1.604,\n",
    " 1.5358,\n",
    " 1.5385,\n",
    " 1.5192,\n",
    " 1.4979,\n",
    " 1.4954,\n",
    " 1.4914,\n",
    " 1.4684,\n",
    " 1.4713,\n",
    " 1.458---,\n",
    " 1.4608,\n",
    " 1.4631]\n",
    " \n",
    " 150units:\n",
    " [1.862,\n",
    " 1.6504,\n",
    " 1.5869,\n",
    " 1.4766,\n",
    " 1.4128,\n",
    " 1.3933,\n",
    " 1.3925,\n",
    " 1.3926,\n",
    " 1.3741,\n",
    " 1.4035,\n",
    " 1.3691---,\n",
    " 1.3803,\n",
    " 1.3893]\n",
    " \n",
    " 201units:\n",
    " [1.8143,\n",
    " 1.591,\n",
    " 1.511,\n",
    " 1.4393,\n",
    " 1.3815,\n",
    " 1.3891,\n",
    " 1.3637,\n",
    " 1.3531---,\n",
    " 1.3636,\n",
    " 1.3573,\n",
    " 1.3696,\n",
    " 1.3789]\n",
    " \n",
    " 499units:\n",
    " [1.7377, 1.5062, 1.4049, 1.3627, 1.3128---, 1.3182, 1.3221]"
   ]
  },
  {
   "cell_type": "code",
   "execution_count": null,
   "metadata": {},
   "outputs": [],
   "source": [
    "len(tloss), len(vloss), len(models)"
   ]
  },
  {
   "cell_type": "code",
   "execution_count": null,
   "metadata": {},
   "outputs": [],
   "source": [
    "print(vloss)"
   ]
  },
  {
   "cell_type": "code",
   "execution_count": null,
   "metadata": {},
   "outputs": [],
   "source": [
    "path"
   ]
  },
  {
   "cell_type": "code",
   "execution_count": null,
   "metadata": {},
   "outputs": [],
   "source": [
    "​"
   ]
  },
  {
   "cell_type": "raw",
   "metadata": {},
   "source": [
    "[1.9471, 1.7713, 1.6263]\n",
    "\n",
    "models[16]\n",
    "models[0]\n",
    "clamp_out = torch.clamp(outputs, min=0)\n",
    "clamp_out\n",
    "outputs\n",
    "F.softmax(outputs, dim=0)\n",
    "F.softmax(outputs.div(temp))\n",
    "pls_work = torch.multinomial(F.softmax(outputs), 1)\n",
    "pls_work[-1]\n",
    "tensor_to_char(pls_work)\n",
    "F.softmax(clamp_out, dim=0)\n",
    "​\n",
    "tensor_to_char(torch.multinomial(clamp_out, 1).view(100))\n",
    "​\n",
    "tensor_to_char(torch.argmax(clamp_out, 1))\n",
    "smo = F.softmax(outputs, dim=0)\n",
    "​\n",
    "dists = Categorical(smo)\n",
    "​\n",
    "tensor_to_char(dists.sample())\n",
    "outputs.size(-1)\n",
    "torch.argmax(outputs, 1)\n",
    "tensor_to_char(torch.argmax(outputs, 1))\n",
    "smo = F.softmax(outputs, dim=0)\n",
    "​\n",
    "mulsmo = torch.multinomial(smo, 1).view(100)\n",
    "tensor_to_char(mulsmo)\n",
    "torch.argmax(F.softmax(outputs, dim=0), 1)"
   ]
  },
  {
   "cell_type": "code",
   "execution_count": 20,
   "metadata": {},
   "outputs": [
    {
     "data": {
      "image/png": "[encoded data removed]",
      "text/plain": [
       "<Figure size 720x576 with 1 Axes>"
      ]
     },
     "metadata": {
      "needs_background": "light"
     },
     "output_type": "display_data"
    }
   ],
   "source": [
    "# torch.argmax(F.softmax(outputs.div(temp), dim=1), 1).sum()\n",
    "tloss, vloss\n",
    "graph_title = 'Training vs Validation Losses for LSTM 1 Layer ' + str(hidsz) + ' Units'\n",
    "\n",
    "fig = plt.figure(figsize=(10, 8))\n",
    "ax = plt.subplot()\n",
    "ax.plot(np.arange(1, len(tloss) + 1), tloss, label='Training Losses')\n",
    "ax.plot(np.arange(1, len(vloss) + 1), vloss, label='Validation Losses')\n",
    "ax.set(xlabel='Number of Epochs', ylabel='Losses',\n",
    "           title=graph_title)\n",
    "leg = ax.legend() #loc=4)\n",
    "fig.savefig('graphs/' + str(hidsz) + 'units_vloss' + loss_str + '.png')"
   ]
  },
  {
   "cell_type": "code",
   "execution_count": 21,
   "metadata": {},
   "outputs": [
    {
     "data": {
      "image/png": "[encoded data removed]",
      "text/plain": [
       "<Figure size 720x576 with 1 Axes>"
      ]
     },
     "execution_count": 21,
     "metadata": {},
     "output_type": "execute_result"
    }
   ],
   "source": [
    "fig"
   ]
  },
  {
   "cell_type": "code",
   "execution_count": null,
   "metadata": {},
   "outputs": [],
   "source": [
    "test20 = capset[1][:50]\n",
    "test20"
   ]
  },
  {
   "cell_type": "code",
   "execution_count": 26,
   "metadata": {},
   "outputs": [
    {
     "data": {
      "text/plain": [
       "'<start>\\nX:1\\nT:Les  '"
      ]
     },
     "execution_count": 26,
     "metadata": {},
     "output_type": "execute_result"
    }
   ],
   "source": [
    "#capset[1][:60]\n",
    "\n",
    "prime_chars = open(root + 'prime.txt').read()\n",
    "prime_chars"
   ]
  },
  {
   "cell_type": "code",
   "execution_count": 52,
   "metadata": {},
   "outputs": [
    {
     "data": {
      "text/plain": [
       "38"
      ]
     },
     "execution_count": 52,
     "metadata": {},
     "output_type": "execute_result"
    }
   ],
   "source": [
    "len(prime_chars)"
   ]
  },
  {
   "cell_type": "code",
   "execution_count": null,
   "metadata": {},
   "outputs": [],
   "source": [
    "net.eval()\n",
    "input_char = '<' # make longer if not doing it right '<start>'\n",
    "input_string = '<start>\\nX:'\n",
    "temp = 0.7\n",
    "inp_str = input_string\n",
    "inputs = prepare(inp_str).to(device)\n",
    "initial_output, initial_state = net(inputs, None)\n",
    "\n",
    "pls_work = pls_work = torch.multinomial(F.softmax(initial_output.div(temp)), 1)\n",
    "lastchar = to_char(pls_work[-1])\n",
    "\n",
    "inp_str += lastchar\n",
    "print(inp_str)\n",
    "print()\n",
    "\n",
    "# argmax\n",
    "# multiple\n",
    "while '<end>' not in inp_str:\n",
    "# for _ in range(1000):\n",
    "    inputs = prepare(inp_str).to(device)\n",
    "    output, initial_state = net(inputs, None)\n",
    "    pls_work = pls_work = torch.multinomial(F.softmax(output.div(temp)), 1)\n",
    "    lastchar = to_char(pls_work[-1])\n",
    "    inp_str += lastchar\n",
    "\n",
    "print(inp_str)"
   ]
  },
  {
   "cell_type": "code",
   "execution_count": 37,
   "metadata": {},
   "outputs": [
    {
     "data": {
      "text/plain": [
       "('<start>\\nX:1\\nT:Co', 16)"
      ]
     },
     "execution_count": 37,
     "metadata": {},
     "output_type": "execute_result"
    }
   ],
   "source": [
    "#capset[1][:60]\n",
    "\n",
    "prime_chars = open(root + 'prime.txt').read()\n",
    "prime_chars, len(prime_chars)"
   ]
  },
  {
   "cell_type": "code",
   "execution_count": 30,
   "metadata": {},
   "outputs": [
    {
     "data": {
      "text/plain": [
       "RNnet(\n",
       "  (char_embeddings): Embedding(94, 94)\n",
       "  (lstm): LSTM(94, 499)\n",
       "  (hidden2out): Linear(in_features=499, out_features=94, bias=True)\n",
       ")"
      ]
     },
     "execution_count": 30,
     "metadata": {},
     "output_type": "execute_result"
    }
   ],
   "source": [
    "#print(inp_str)\n",
    "#device = torch.device(\"cuda\" if torch.cuda.is_available() else \"cpu\")\n",
    "bestmodelpath = pathdir + '.pt'\n",
    "\n",
    "makesong_net = RNnet(inpsz, hidsz, outsz, weight, num_layers)\n",
    "\n",
    "makesong_net.load_state_dict(torch.load(bestmodelpath))\n",
    "makesong_net = makesong_net.to(device)\n",
    "makesong_net.eval()"
   ]
  },
  {
   "cell_type": "code",
   "execution_count": 104,
   "metadata": {},
   "outputs": [
    {
     "name": "stdout",
     "output_type": "stream",
     "text": [
      "<start>\n",
      "X:1\n",
      "T:Fara\n",
      "\n"
     ]
    },
    {
     "ename": "KeyboardInterrupt",
     "evalue": "",
     "output_type": "error",
     "traceback": [
      "\u001b[0;31m\u001b[0m",
      "\u001b[0;31mKeyboardInterrupt\u001b[0mTraceback (most recent call last)",
      "\u001b[0;32m<ipython-input-104-9ad88a796323>\u001b[0m in \u001b[0;36m<module>\u001b[0;34m\u001b[0m\n\u001b[1;32m     17\u001b[0m \u001b[0;31m# for _ in range(1000):\u001b[0m\u001b[0;34m\u001b[0m\u001b[0;34m\u001b[0m\u001b[0;34m\u001b[0m\u001b[0m\n\u001b[1;32m     18\u001b[0m     \u001b[0minputs\u001b[0m \u001b[0;34m=\u001b[0m \u001b[0mprepare\u001b[0m\u001b[0;34m(\u001b[0m\u001b[0mmax_str\u001b[0m\u001b[0;34m)\u001b[0m\u001b[0;34m.\u001b[0m\u001b[0mto\u001b[0m\u001b[0;34m(\u001b[0m\u001b[0mdevice\u001b[0m\u001b[0;34m)\u001b[0m\u001b[0;34m\u001b[0m\u001b[0;34m\u001b[0m\u001b[0m\n\u001b[0;32m---> 19\u001b[0;31m     \u001b[0moutput\u001b[0m\u001b[0;34m,\u001b[0m \u001b[0minitial_state\u001b[0m \u001b[0;34m=\u001b[0m \u001b[0mmakesong_net\u001b[0m\u001b[0;34m(\u001b[0m\u001b[0minputs\u001b[0m\u001b[0;34m,\u001b[0m \u001b[0;32mNone\u001b[0m\u001b[0;34m)\u001b[0m\u001b[0;34m\u001b[0m\u001b[0;34m\u001b[0m\u001b[0m\n\u001b[0m\u001b[1;32m     20\u001b[0m     \u001b[0mpls_work\u001b[0m \u001b[0;34m=\u001b[0m \u001b[0mtorch\u001b[0m\u001b[0;34m.\u001b[0m\u001b[0margmax\u001b[0m\u001b[0;34m(\u001b[0m\u001b[0mF\u001b[0m\u001b[0;34m.\u001b[0m\u001b[0msoftmax\u001b[0m\u001b[0;34m(\u001b[0m\u001b[0moutput\u001b[0m\u001b[0;34m)\u001b[0m\u001b[0;34m,\u001b[0m \u001b[0;36m1\u001b[0m\u001b[0;34m)\u001b[0m\u001b[0;34m\u001b[0m\u001b[0;34m\u001b[0m\u001b[0m\n\u001b[1;32m     21\u001b[0m     \u001b[0mlastchar\u001b[0m \u001b[0;34m=\u001b[0m \u001b[0mto_char\u001b[0m\u001b[0;34m(\u001b[0m\u001b[0mpls_work\u001b[0m\u001b[0;34m[\u001b[0m\u001b[0;34m-\u001b[0m\u001b[0;36m1\u001b[0m\u001b[0;34m]\u001b[0m\u001b[0;34m)\u001b[0m\u001b[0;34m\u001b[0m\u001b[0;34m\u001b[0m\u001b[0m\n",
      "\u001b[0;32m~/.conda/envs/pas/lib/python3.6/site-packages/torch/nn/modules/module.py\u001b[0m in \u001b[0;36m__call__\u001b[0;34m(self, *input, **kwargs)\u001b[0m\n\u001b[1;32m    539\u001b[0m             \u001b[0mresult\u001b[0m \u001b[0;34m=\u001b[0m \u001b[0mself\u001b[0m\u001b[0;34m.\u001b[0m\u001b[0m_slow_forward\u001b[0m\u001b[0;34m(\u001b[0m\u001b[0;34m*\u001b[0m\u001b[0minput\u001b[0m\u001b[0;34m,\u001b[0m \u001b[0;34m**\u001b[0m\u001b[0mkwargs\u001b[0m\u001b[0;34m)\u001b[0m\u001b[0;34m\u001b[0m\u001b[0;34m\u001b[0m\u001b[0m\n\u001b[1;32m    540\u001b[0m         \u001b[0;32melse\u001b[0m\u001b[0;34m:\u001b[0m\u001b[0;34m\u001b[0m\u001b[0;34m\u001b[0m\u001b[0m\n\u001b[0;32m--> 541\u001b[0;31m             \u001b[0mresult\u001b[0m \u001b[0;34m=\u001b[0m \u001b[0mself\u001b[0m\u001b[0;34m.\u001b[0m\u001b[0mforward\u001b[0m\u001b[0;34m(\u001b[0m\u001b[0;34m*\u001b[0m\u001b[0minput\u001b[0m\u001b[0;34m,\u001b[0m \u001b[0;34m**\u001b[0m\u001b[0mkwargs\u001b[0m\u001b[0;34m)\u001b[0m\u001b[0;34m\u001b[0m\u001b[0;34m\u001b[0m\u001b[0m\n\u001b[0m\u001b[1;32m    542\u001b[0m         \u001b[0;32mfor\u001b[0m \u001b[0mhook\u001b[0m \u001b[0;32min\u001b[0m \u001b[0mself\u001b[0m\u001b[0;34m.\u001b[0m\u001b[0m_forward_hooks\u001b[0m\u001b[0;34m.\u001b[0m\u001b[0mvalues\u001b[0m\u001b[0;34m(\u001b[0m\u001b[0;34m)\u001b[0m\u001b[0;34m:\u001b[0m\u001b[0;34m\u001b[0m\u001b[0;34m\u001b[0m\u001b[0m\n\u001b[1;32m    543\u001b[0m             \u001b[0mhook_result\u001b[0m \u001b[0;34m=\u001b[0m \u001b[0mhook\u001b[0m\u001b[0;34m(\u001b[0m\u001b[0mself\u001b[0m\u001b[0;34m,\u001b[0m \u001b[0minput\u001b[0m\u001b[0;34m,\u001b[0m \u001b[0mresult\u001b[0m\u001b[0;34m)\u001b[0m\u001b[0;34m\u001b[0m\u001b[0;34m\u001b[0m\u001b[0m\n",
      "\u001b[0;32m/datasets/home/home-00/15/015/kzsidiqi/pa4/rnn_shuffle.py\u001b[0m in \u001b[0;36mforward\u001b[0;34m(self, sequence, states)\u001b[0m\n\u001b[1;32m     71\u001b[0m \u001b[0;31m#         print(torch.transpose(embeds, 0, 1).shape)\u001b[0m\u001b[0;34m\u001b[0m\u001b[0;34m\u001b[0m\u001b[0;34m\u001b[0m\u001b[0m\n\u001b[1;32m     72\u001b[0m \u001b[0;34m\u001b[0m\u001b[0m\n\u001b[0;32m---> 73\u001b[0;31m         \u001b[0mlstmout\u001b[0m\u001b[0;34m,\u001b[0m \u001b[0mstates\u001b[0m \u001b[0;34m=\u001b[0m \u001b[0mself\u001b[0m\u001b[0;34m.\u001b[0m\u001b[0mlstm\u001b[0m\u001b[0;34m(\u001b[0m\u001b[0membeds\u001b[0m\u001b[0;34m,\u001b[0m \u001b[0mstates\u001b[0m\u001b[0;34m)\u001b[0m\u001b[0;34m\u001b[0m\u001b[0;34m\u001b[0m\u001b[0m\n\u001b[0m\u001b[1;32m     74\u001b[0m \u001b[0;31m#         print(lstmout[0], lstmout.shape)\u001b[0m\u001b[0;34m\u001b[0m\u001b[0;34m\u001b[0m\u001b[0;34m\u001b[0m\u001b[0m\n\u001b[1;32m     75\u001b[0m \u001b[0;31m#         print(states[0].shape)\u001b[0m\u001b[0;34m\u001b[0m\u001b[0;34m\u001b[0m\u001b[0;34m\u001b[0m\u001b[0m\n",
      "\u001b[0;32m~/.conda/envs/pas/lib/python3.6/site-packages/torch/nn/modules/module.py\u001b[0m in \u001b[0;36m__call__\u001b[0;34m(self, *input, **kwargs)\u001b[0m\n\u001b[1;32m    539\u001b[0m             \u001b[0mresult\u001b[0m \u001b[0;34m=\u001b[0m \u001b[0mself\u001b[0m\u001b[0;34m.\u001b[0m\u001b[0m_slow_forward\u001b[0m\u001b[0;34m(\u001b[0m\u001b[0;34m*\u001b[0m\u001b[0minput\u001b[0m\u001b[0;34m,\u001b[0m \u001b[0;34m**\u001b[0m\u001b[0mkwargs\u001b[0m\u001b[0;34m)\u001b[0m\u001b[0;34m\u001b[0m\u001b[0;34m\u001b[0m\u001b[0m\n\u001b[1;32m    540\u001b[0m         \u001b[0;32melse\u001b[0m\u001b[0;34m:\u001b[0m\u001b[0;34m\u001b[0m\u001b[0;34m\u001b[0m\u001b[0m\n\u001b[0;32m--> 541\u001b[0;31m             \u001b[0mresult\u001b[0m \u001b[0;34m=\u001b[0m \u001b[0mself\u001b[0m\u001b[0;34m.\u001b[0m\u001b[0mforward\u001b[0m\u001b[0;34m(\u001b[0m\u001b[0;34m*\u001b[0m\u001b[0minput\u001b[0m\u001b[0;34m,\u001b[0m \u001b[0;34m**\u001b[0m\u001b[0mkwargs\u001b[0m\u001b[0;34m)\u001b[0m\u001b[0;34m\u001b[0m\u001b[0;34m\u001b[0m\u001b[0m\n\u001b[0m\u001b[1;32m    542\u001b[0m         \u001b[0;32mfor\u001b[0m \u001b[0mhook\u001b[0m \u001b[0;32min\u001b[0m \u001b[0mself\u001b[0m\u001b[0;34m.\u001b[0m\u001b[0m_forward_hooks\u001b[0m\u001b[0;34m.\u001b[0m\u001b[0mvalues\u001b[0m\u001b[0;34m(\u001b[0m\u001b[0;34m)\u001b[0m\u001b[0;34m:\u001b[0m\u001b[0;34m\u001b[0m\u001b[0;34m\u001b[0m\u001b[0m\n\u001b[1;32m    543\u001b[0m             \u001b[0mhook_result\u001b[0m \u001b[0;34m=\u001b[0m \u001b[0mhook\u001b[0m\u001b[0;34m(\u001b[0m\u001b[0mself\u001b[0m\u001b[0;34m,\u001b[0m \u001b[0minput\u001b[0m\u001b[0;34m,\u001b[0m \u001b[0mresult\u001b[0m\u001b[0;34m)\u001b[0m\u001b[0;34m\u001b[0m\u001b[0;34m\u001b[0m\u001b[0m\n",
      "\u001b[0;32m~/.conda/envs/pas/lib/python3.6/site-packages/torch/nn/modules/rnn.py\u001b[0m in \u001b[0;36mforward\u001b[0;34m(self, input, hx)\u001b[0m\n\u001b[1;32m    562\u001b[0m             \u001b[0;32mreturn\u001b[0m \u001b[0mself\u001b[0m\u001b[0;34m.\u001b[0m\u001b[0mforward_packed\u001b[0m\u001b[0;34m(\u001b[0m\u001b[0minput\u001b[0m\u001b[0;34m,\u001b[0m \u001b[0mhx\u001b[0m\u001b[0;34m)\u001b[0m\u001b[0;34m\u001b[0m\u001b[0;34m\u001b[0m\u001b[0m\n\u001b[1;32m    563\u001b[0m         \u001b[0;32melse\u001b[0m\u001b[0;34m:\u001b[0m\u001b[0;34m\u001b[0m\u001b[0;34m\u001b[0m\u001b[0m\n\u001b[0;32m--> 564\u001b[0;31m             \u001b[0;32mreturn\u001b[0m \u001b[0mself\u001b[0m\u001b[0;34m.\u001b[0m\u001b[0mforward_tensor\u001b[0m\u001b[0;34m(\u001b[0m\u001b[0minput\u001b[0m\u001b[0;34m,\u001b[0m \u001b[0mhx\u001b[0m\u001b[0;34m)\u001b[0m\u001b[0;34m\u001b[0m\u001b[0;34m\u001b[0m\u001b[0m\n\u001b[0m\u001b[1;32m    565\u001b[0m \u001b[0;34m\u001b[0m\u001b[0m\n\u001b[1;32m    566\u001b[0m \u001b[0;34m\u001b[0m\u001b[0m\n",
      "\u001b[0;32m~/.conda/envs/pas/lib/python3.6/site-packages/torch/nn/modules/rnn.py\u001b[0m in \u001b[0;36mforward_tensor\u001b[0;34m(self, input, hx)\u001b[0m\n\u001b[1;32m    541\u001b[0m         \u001b[0munsorted_indices\u001b[0m \u001b[0;34m=\u001b[0m \u001b[0;32mNone\u001b[0m\u001b[0;34m\u001b[0m\u001b[0;34m\u001b[0m\u001b[0m\n\u001b[1;32m    542\u001b[0m \u001b[0;34m\u001b[0m\u001b[0m\n\u001b[0;32m--> 543\u001b[0;31m         \u001b[0moutput\u001b[0m\u001b[0;34m,\u001b[0m \u001b[0mhidden\u001b[0m \u001b[0;34m=\u001b[0m \u001b[0mself\u001b[0m\u001b[0;34m.\u001b[0m\u001b[0mforward_impl\u001b[0m\u001b[0;34m(\u001b[0m\u001b[0minput\u001b[0m\u001b[0;34m,\u001b[0m \u001b[0mhx\u001b[0m\u001b[0;34m,\u001b[0m \u001b[0mbatch_sizes\u001b[0m\u001b[0;34m,\u001b[0m \u001b[0mmax_batch_size\u001b[0m\u001b[0;34m,\u001b[0m \u001b[0msorted_indices\u001b[0m\u001b[0;34m)\u001b[0m\u001b[0;34m\u001b[0m\u001b[0;34m\u001b[0m\u001b[0m\n\u001b[0m\u001b[1;32m    544\u001b[0m \u001b[0;34m\u001b[0m\u001b[0m\n\u001b[1;32m    545\u001b[0m         \u001b[0;32mreturn\u001b[0m \u001b[0moutput\u001b[0m\u001b[0;34m,\u001b[0m \u001b[0mself\u001b[0m\u001b[0;34m.\u001b[0m\u001b[0mpermute_hidden\u001b[0m\u001b[0;34m(\u001b[0m\u001b[0mhidden\u001b[0m\u001b[0;34m,\u001b[0m \u001b[0munsorted_indices\u001b[0m\u001b[0;34m)\u001b[0m\u001b[0;34m\u001b[0m\u001b[0;34m\u001b[0m\u001b[0m\n",
      "\u001b[0;32m~/.conda/envs/pas/lib/python3.6/site-packages/torch/nn/modules/rnn.py\u001b[0m in \u001b[0;36mforward_impl\u001b[0;34m(self, input, hx, batch_sizes, max_batch_size, sorted_indices)\u001b[0m\n\u001b[1;32m    524\u001b[0m         \u001b[0;32mif\u001b[0m \u001b[0mbatch_sizes\u001b[0m \u001b[0;32mis\u001b[0m \u001b[0;32mNone\u001b[0m\u001b[0;34m:\u001b[0m\u001b[0;34m\u001b[0m\u001b[0;34m\u001b[0m\u001b[0m\n\u001b[1;32m    525\u001b[0m             result = _VF.lstm(input, hx, self._get_flat_weights(), self.bias, self.num_layers,\n\u001b[0;32m--> 526\u001b[0;31m                               self.dropout, self.training, self.bidirectional, self.batch_first)\n\u001b[0m\u001b[1;32m    527\u001b[0m         \u001b[0;32melse\u001b[0m\u001b[0;34m:\u001b[0m\u001b[0;34m\u001b[0m\u001b[0;34m\u001b[0m\u001b[0m\n\u001b[1;32m    528\u001b[0m             result = _VF.lstm(input, batch_sizes, hx, self._get_flat_weights(), self.bias,\n",
      "\u001b[0;31mKeyboardInterrupt\u001b[0m: "
     ]
    }
   ],
   "source": [
    "max_str = prime_chars\n",
    "\n",
    "inputs = prepare(max_str).to(device)\n",
    "initial_output, initial_state = makesong_net(inputs, None)\n",
    "\n",
    "pls_work = torch.argmax(F.softmax(initial_output), 1)\n",
    "lastchar = to_char(pls_work[-1])\n",
    "\n",
    "max_str += lastchar\n",
    "print(max_str)\n",
    "print()\n",
    "\n",
    "# argmax\n",
    "# multiple\n",
    "i = 1\n",
    "while '<end>' not in max_str:\n",
    "# for _ in range(1000):\n",
    "    inputs = prepare(max_str).to(device)\n",
    "    output, initial_state = makesong_net(inputs, None)\n",
    "    pls_work = torch.argmax(F.softmax(output), 1)\n",
    "    lastchar = to_char(pls_work[-1])\n",
    "    max_str += lastchar\n",
    "    i += 1\n",
    "    if 'λ' in max_str:\n",
    "        break\n",
    "    if i == 1000:\n",
    "        break\n",
    "\n",
    "print(max_str)"
   ]
  },
  {
   "cell_type": "code",
   "execution_count": 46,
   "metadata": {
    "collapsed": true
   },
   "outputs": [
    {
     "name": "stdout",
     "output_type": "stream",
     "text": [
      "<start>\n",
      "X:1\n",
      "T:Correst Coureele\n",
      "R:Branle\n",
      "A:Provence\n",
      "C:Trad.\n",
      "R:Marche\n",
      "Z:Transcrit et/ou corrig? par Michel BELLON - 2005-03-23\n",
      "Z:Pour toute observation mailto:galouvielle@free.fr\n",
      "M:C\n",
      "L:1/8\n",
      "K:Bb\n",
      "V:1\n",
      "z |: B2B B2B | B2B B2B | B2B B2B | B2B B2B | B2B B2B | B2B B2B | B2B B2B | B2B B2B | B2B B2B | B2B B2B | B2B B2B | B2B B2B | B2B B2B | B2B B2B | B2B B2B | B2B B2B | B2B B2B | B2B B2B | B2B B2B | B2B B2B | B2B B2B | B2B B2B | B2B B2B | B2B B2B | B2B B2B | B2B B2B | B2B B2B | B2B B2B | B2B B2B | B2B B2B | B2B B2B | B2B B2B | B2B B2B | B2B B2B | B2B B2B | B2B B2B | B2B B2B | B2B B2B | B2B B2B | B2B B2B | B2B B2B | B2B B2B | B2B B2B | B2B B2B | B2B B2B | B2B B2B | B2B B2B | B2B B2B | B2B B2B | B2B B2B | B2B B2B | B2B B2B | B2B B2B | B2B B2B | B2B B2B | B2B B2B | B2B B2B | B2B B2B | B2B B2B | B2B B2B | B2B B2B | B2B B2B | B2B B2B | B2B B2B | B2B B2B | B2B B2B | B2B B2B | B2B B2B | B2B B2B | B2B B2B | B2B B2B | B2B B2B | B2B B2B | B\n"
     ]
    }
   ],
   "source": [
    "print(max_str)"
   ]
  },
  {
   "cell_type": "code",
   "execution_count": 83,
   "metadata": {},
   "outputs": [
    {
     "data": {
      "text/plain": [
       "510"
      ]
     },
     "execution_count": 83,
     "metadata": {},
     "output_type": "execute_result"
    }
   ],
   "source": [
    "print(max_str)"
   ]
  },
  {
   "cell_type": "code",
   "execution_count": 101,
   "metadata": {},
   "outputs": [
    {
     "name": "stdout",
     "output_type": "stream",
     "text": [
      "355\n",
      "<start>\n",
      "X:1\n",
      "T:Fara\n",
      "\n",
      "<start>\n",
      "X:1\n",
      "T:Farandole de Bourreg ?\n",
      "S:Carnet du tambourinaire Ginas (1924)\n",
      "O:France\n",
      "A:Provence\n",
      "R:Bourree\n",
      "M:2/4\n",
      "L:1/8\n",
      "K:F\n",
      "t a a fa/e/ | dc d2 AF | B2 BA BG GA | cB cd ed | ef ed ce :|\n",
      "<end>\n"
     ]
    }
   ],
   "source": [
    "input_char = '<' # make longer if not doing it right '<start>'\n",
    "input_string = '<start>\\nX:'\n",
    "temp = 0.7\n",
    "inp_str = prime_chars\n",
    "\n",
    "seed = int(torch.rand(1)[0].item() * 1e3)\n",
    "\n",
    "torch.manual_seed(seed)\n",
    "print(seed)\n",
    "\n",
    "inputs = prepare(inp_str).to(device)\n",
    "initial_output, initial_state = makesong_net(inputs, None)\n",
    "\n",
    "pls_work = torch.multinomial(F.softmax(initial_output.div(temp)), 1)\n",
    "lastchar = to_char(pls_work[-1])\n",
    "\n",
    "inp_str += lastchar\n",
    "print(inp_str)\n",
    "print()\n",
    "\n",
    "# argmax\n",
    "# multiple\n",
    "while '<end>' not in inp_str:\n",
    "# for _ in range(1000):\n",
    "    inputs = prepare(inp_str).to(device)\n",
    "    output, initial_state = makesong_net(inputs, None)\n",
    "    pls_work = torch.multinomial(F.softmax(output.div(temp)), 1)\n",
    "    lastchar = to_char(pls_work[-1])\n",
    "    inp_str += lastchar\n",
    "    \n",
    "    if 'λ' in inp_str:\n",
    "        break\n",
    "\n",
    "print(inp_str)\n"
   ]
  },
  {
   "cell_type": "code",
   "execution_count": 84,
   "metadata": {},
   "outputs": [
    {
     "data": {
      "text/plain": [
       "510"
      ]
     },
     "execution_count": 84,
     "metadata": {},
     "output_type": "execute_result"
    }
   ],
   "source": [
    "len(inp_str)"
   ]
  },
  {
   "cell_type": "raw",
   "metadata": {},
   "source": [
    "seed = 58355557"
   ]
  },
  {
   "cell_type": "raw",
   "metadata": {},
   "source": [
    "X:1\n",
    "T:Collick of the Mornais, The\n",
    "R:jig\n",
    "H:See also #16, #21, #2 #20, #24\n",
    "D:Chailious Sen also played |Agaf df as a se parts la ba lavins\".\n",
    "D:De Dannan: The Miss Covered Fring\n",
    "Z:id:hn-jig-81\n",
    "M:6/8\n",
    "K:D\n",
    "FFA dAF|AFA dBA|BAG FED|DEF GAB|cAF AFD|EBA d2A|BAG FED:|\n",
    "|:AAB AGF|EFG ABc|def gfe|dBA AFA|~A3 BAG|~E3 AFE|~E3 GAB|1 GAG G2A:|2 GEE E2f||\n",
    "|:eaa age|ede fed|eaf eAA|def efg|fed efe|1 ded eAe:|2 edd d2A|dcB AFA|d2f afd|gfe d2d|cde fdB|ABd GBd|1 gdB GAB:|2 fdc d2e||\n",
    "fff efg|afb afe|ddd ddd|edd ed^c|d2d dcB|AFA DEF|GFG AGF|EGE EDE||"
   ]
  },
  {
   "cell_type": "code",
   "execution_count": 95,
   "metadata": {},
   "outputs": [],
   "source": [
    "songpath = 'songs/t' + str(0) + 'song2.txt'\n",
    "f = open(songpath, \"w\")\n",
    "f.write(inp_str)\n",
    "f.close()"
   ]
  },
  {
   "cell_type": "code",
   "execution_count": 29,
   "metadata": {
    "collapsed": true
   },
   "outputs": [
    {
     "name": "stdout",
     "output_type": "stream",
     "text": [
      "<start>\n",
      "X:54\n",
      "T:Gridiqy\n",
      "T:Bonpotes Qfeelot\"C\n",
      "C:Luls. ^Divarg(Sdined'AHe,Fl Risddien \\'u?Reghon afEruw.\n",
      "H:-crlatkyy Dava deed2s\"QHxwowcane lin d.so nr\\sel.,C3\n",
      "C:M. FM6id:qufide\n",
      "K1 ChaiAA@ne\"J]_fe ^(7.d) zed, T7gfgd f2>f2e+b\"Tuae'\"L ~fl}c3' =1(8:|\n",
      "czGF Gcd |:(3D(CxC+)}ABAnde!D| {E2{A_D B^ c~=B2] dOW|A[Q(1</2sb inAPJuyplet:lidzuGoqu.en vro\n",
      "Eccdaralca=Agul/(g/agfelv(1)M^)=Gac4B4z|\n",
      "HFd,ubly,8 Bys>>F,>E f><E>>G8|{a!DiEC.D\tCE,6M[G5]B Og ak+b>-~'v5anwet/ :|x8:36\n",
      "Q:C]fvG,-4LC_OfUy4T7b\"DmC5}CCEw.G8:|: .A2cG CGF^A>(Bfg (v=a/) OAF)^DMe|A2B>2ce +Waeuul beps.rausfqurqu_' dlfy'_FA-GVamMK4Is]fat{a'Sneh''sstte/c\n",
      "ZTVurd oll'ash\n",
      "G2F|d3:|=7~E2QA.PMa/L\n",
      "M:<|abd? Bdd |16B6 :|f d2_ag |  ~f3lab\n",
      "a[d''7' b/2FK|Ic !bricate_ njw0s\n",
      "P:\"6?<Enmin:\n",
      "[v4F3/3/ GABcLd2Gc2BE|\n",
      "K:G (?o =8hoZdioan\"\\1y-c\tG2AB,CC o-.D_+S EC,^F,</2CG3|{G\n",
      "B,2^FGG,B,c4,|ScA\n",
      "Aq.d.A. c>AH|HAABa fe_c=c.A <GJ5:: _As2d2]2: cotq=222.u\n",
      "B>A/G>f|e{ac/gf):| [Gg ggf2+g'<saa\t|\n",
      "Wz4c\t62 zA 4 |[2A4 B8|\n",
      "Q:4/4=)1^f7z[c2][Fd+E] kdh[dg.f Leiv2o!=:: L|./2z/2f/2f]B9!r:!)||a2F/2_D2[zF]d[df3/2& edcdBad\t|:B4F/2ef/2f/2 d3/2d/2e>c|d2A2-3A2>G=z42u]3.2zAA c+c(!+adv.\n",
      "H:_.Ge_d pcd{cd}ccf |]\n",
      "<end>\n"
     ]
    }
   ],
   "source": [
    "print(inp_str)"
   ]
  },
  {
   "cell_type": "code",
   "execution_count": 99,
   "metadata": {},
   "outputs": [
    {
     "data": {
      "text/plain": [
       "'<start>\\nX:1\\nT:Far'"
      ]
     },
     "execution_count": 99,
     "metadata": {},
     "output_type": "execute_result"
    }
   ],
   "source": [
    "prime_chars = open(root + 'prime.txt').read()\n",
    "prime_chars"
   ]
  },
  {
   "cell_type": "code",
   "execution_count": 100,
   "metadata": {},
   "outputs": [
    {
     "data": {
      "text/plain": [
       "17"
      ]
     },
     "execution_count": 100,
     "metadata": {},
     "output_type": "execute_result"
    }
   ],
   "source": [
    "len(prime_chars)"
   ]
  },
  {
   "cell_type": "code",
   "execution_count": 11,
   "metadata": {},
   "outputs": [],
   "source": []
  },
  {
   "cell_type": "code",
   "execution_count": 12,
   "metadata": {},
   "outputs": [
    {
     "data": {
      "text/plain": [
       "166"
      ]
     },
     "execution_count": 12,
     "metadata": {},
     "output_type": "execute_result"
    }
   ],
   "source": [
    "len(testset)"
   ]
  },
  {
   "cell_type": "code",
   "execution_count": 22,
   "metadata": {},
   "outputs": [],
   "source": [
    "\n",
    "loadpath = pathdir + '.pt'\n",
    "savepath = pathdir + loss_str + '.pt'\n",
    "\n",
    "testnet = RNnet(inpsz, hidsz, outsz, weight, num_layers)\n",
    "\n",
    "testnet.load_state_dict(torch.load(loadpath))\n",
    "testnet = testnet.to(device)\n",
    "torch.save(testnet.state_dict(), savepath)\n",
    "\n",
    "criterion = nn.CrossEntropyLoss()\n"
   ]
  },
  {
   "cell_type": "code",
   "execution_count": 23,
   "metadata": {},
   "outputs": [
    {
     "data": {
      "text/plain": [
       "166"
      ]
     },
     "execution_count": 23,
     "metadata": {},
     "output_type": "execute_result"
    }
   ],
   "source": [
    "testset = loader(root + 'test.txt')\n",
    "test = DataLoader(testset, batch_size=1)\n",
    "len(testset)"
   ]
  },
  {
   "cell_type": "code",
   "execution_count": 24,
   "metadata": {},
   "outputs": [],
   "source": [
    "testloss = []\n",
    "songout = '<'\n",
    "\n",
    "testnet.eval()\n",
    "\n",
    "for i, song in enumerate(test, 0):\n",
    "    song = song[0]\n",
    "    songloss = []\n",
    "    states = None\n",
    "    \n",
    "    for inputs, targets in get_chunks(song):\n",
    "\n",
    "        inputs = inputs.to(device)\n",
    "        targets = targets.to(device)\n",
    "\n",
    "        outputs, states = testnet(inputs, states)\n",
    "        targs = torch.squeeze(targets)\n",
    "        loss = criterion(outputs, targs).item()\n",
    "\n",
    "#         testloss += loss\n",
    "        songloss.append(loss)\n",
    "\n",
    "\n",
    "    avgloss = np.average(songloss)\n",
    "    testloss.append(avgloss)\n",
    "\n",
    "test_loss = np.average(testloss)"
   ]
  },
  {
   "cell_type": "code",
   "execution_count": 25,
   "metadata": {},
   "outputs": [
    {
     "data": {
      "text/plain": [
       "1.2635578162004601"
      ]
     },
     "execution_count": 25,
     "metadata": {},
     "output_type": "execute_result"
    }
   ],
   "source": [
    "test_loss"
   ]
  },
  {
   "cell_type": "code",
   "execution_count": null,
   "metadata": {},
   "outputs": [],
   "source": []
  }
 ],
 "metadata": {
  "kernelspec": {
   "display_name": "Python 3",
   "language": "python",
   "name": "python3"
  },
  "language_info": {
   "codemirror_mode": {
    "name": "ipython",
    "version": 3
   },
   "file_extension": ".py",
   "mimetype": "text/x-python",
   "name": "python",
   "nbconvert_exporter": "python",
   "pygments_lexer": "ipython3",
   "version": "3.6.8"
  }
 },
 "nbformat": 4,
 "nbformat_minor": 2
}
